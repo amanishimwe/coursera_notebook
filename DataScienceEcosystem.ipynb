{
 "cells": [
  {
   "cell_type": "markdown",
   "id": "0bf8f05a",
   "metadata": {},
   "source": [
    "# Data Science Ecosystem"
   ]
  },
  {
   "cell_type": "markdown",
   "id": "8504c9b5",
   "metadata": {},
   "source": [
    "## In this notebook, datascience tools and ecosystem are summarized"
   ]
  },
  {
   "cell_type": "markdown",
   "id": "46411c3c",
   "metadata": {},
   "source": [
    "### Objectives:\n",
    "* Listing Data Science Languages\n",
    "* Listing Data Science Libraries\n",
    "* Performing Arithmetic extpression\n",
    "* Listing Data Science Open source Tools"
   ]
  },
  {
   "cell_type": "markdown",
   "id": "5e9db802",
   "metadata": {},
   "source": [
    "### Some of the Popular languages that Data Scientist use are:\n",
    "1. Python\n",
    "2. R\n",
    "3. Java\n",
    "4. C++"
   ]
  },
  {
   "cell_type": "markdown",
   "id": "defba626",
   "metadata": {},
   "source": [
    "### Some of the common used libraries used by data scientist include:\n",
    "* Matlotlib\n",
    "* Pandas\n",
    "* Numpy\n",
    "* ggplot\n",
    "* Seaborn\n",
    "* plotly\n",
    "* Geopandas"
   ]
  },
  {
   "cell_type": "markdown",
   "id": "a799648c",
   "metadata": {},
   "source": [
    "<table> \n",
    "    <tr>\n",
    "        <th>Data Science Tools: </th>\n",
    "    </tr>\n",
    "    <tr>\n",
    "        <td>Hadoop</td>  \n",
    "    </tr>\n",
    "    <tr>\n",
    "        <td>Ml Flow</td>\n",
    "    </tr>\n",
    "     <tr>\n",
    "        <td>Tensorflow</td>\n",
    "    </tr>\n",
    "</table>\n",
    "\n"
   ]
  },
  {
   "cell_type": "markdown",
   "id": "696bf792",
   "metadata": {},
   "source": [
    "### Below are a few examples of evaluating arithmetic expressions in python"
   ]
  },
  {
   "cell_type": "code",
   "execution_count": 11,
   "id": "82a3b7ce",
   "metadata": {},
   "outputs": [
    {
     "data": {
      "text/plain": [
       "17"
      ]
     },
     "execution_count": 11,
     "metadata": {},
     "output_type": "execute_result"
    }
   ],
   "source": [
    "# This a simple arithmetic expression to multiply then add integers\n",
    "(3*4)+5"
   ]
  },
  {
   "cell_type": "code",
   "execution_count": 12,
   "id": "67ae0451",
   "metadata": {},
   "outputs": [
    {
     "data": {
      "text/plain": [
       "3.3333333333333335"
      ]
     },
     "execution_count": 12,
     "metadata": {},
     "output_type": "execute_result"
    }
   ],
   "source": [
    "# This will convert 200 minutes to hours by dividing my 60\n",
    "200/60"
   ]
  },
  {
   "cell_type": "markdown",
   "id": "d80ba3fb",
   "metadata": {},
   "source": [
    "## Author\n",
    "Alban Manishimwe"
   ]
  },
  {
   "cell_type": "code",
   "execution_count": null,
   "id": "e10e92fb",
   "metadata": {},
   "outputs": [],
   "source": []
  }
 ],
 "metadata": {
  "kernelspec": {
   "display_name": "Python 3 (ipykernel)",
   "language": "python",
   "name": "python3"
  },
  "language_info": {
   "codemirror_mode": {
    "name": "ipython",
    "version": 3
   },
   "file_extension": ".py",
   "mimetype": "text/x-python",
   "name": "python",
   "nbconvert_exporter": "python",
   "pygments_lexer": "ipython3",
   "version": "3.11.3"
  }
 },
 "nbformat": 4,
 "nbformat_minor": 5
}
